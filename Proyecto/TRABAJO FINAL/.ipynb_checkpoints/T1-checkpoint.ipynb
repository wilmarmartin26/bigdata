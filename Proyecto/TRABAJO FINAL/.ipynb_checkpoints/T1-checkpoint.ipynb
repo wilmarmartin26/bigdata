{
 "cells": [
  {
   "cell_type": "markdown",
   "metadata": {},
   "source": [
    "## TRABAJO FINAL:  Sistema de Recomendación de peliculas usando VSM y Similitud Coseno\n",
    "### Autor:  Wilmar Martín"
   ]
  },
  {
   "cell_type": "code",
   "execution_count": 10,
   "metadata": {},
   "outputs": [],
   "source": [
    "# Autor: Wilmar Martín\n",
    "\n",
    "import math\n",
    "import json\n",
    "from time import time\n",
    "from collections import Counter"
   ]
  },
  {
   "cell_type": "code",
   "execution_count": 11,
   "metadata": {},
   "outputs": [],
   "source": [
    "def opendDocuments():    \n",
    "    file_inverdIndex = open(\"AnalisisGenerados/inverdIndexGen.txt\", \"r\")\n",
    "    inverdIndex = json.JSONDecoder().decode(file_inverdIndex.read())\n",
    "    file_inverdIndex.close()\n",
    "    \n",
    "    file_stopwords = open(\"AnalisisGenerados/stopwordsGen.txt\", \"r\", errors=\"replace\")\n",
    "    stopwords = file_stopwords.read().split()\n",
    "    file_stopwords.close()\n",
    "    \n",
    "    file_words = open(\"AnalisisGenerados/wordsGen.txt\", \"r\")\n",
    "    words = json.JSONDecoder().decode(file_words.read())\n",
    "    file_words.close()\n",
    "    \n",
    "    file_words = open(\"AnalisisGenerados/tfidf.txt\", \"r\")\n",
    "    allTfidf = json.JSONDecoder().decode(file_words.read())\n",
    "    file_words.close()\n",
    "\n",
    "    file_documents = open(\"documents/documentsGen.txt\", \"r\")\n",
    "    documents = json.JSONDecoder().decode(file_documents.read())\n",
    "    file_documents.close()\n",
    "        \n",
    "    file_inv_frec_vector = open(\"AnalisisGenerados/inv_frec_vector.txt\", \"r\")\n",
    "    inv_frec_vector = json.JSONDecoder().decode(file_inv_frec_vector.read())\n",
    "    file_inv_frec_vector.close()\n",
    "    \n",
    "    return inverdIndex, stopwords, words, allTfidf ,documents, inv_frec_vector"
   ]
  },
  {
   "cell_type": "code",
   "execution_count": 12,
   "metadata": {},
   "outputs": [],
   "source": [
    "def findCoincidences(doc, find_term):\n",
    "    coincidences = 0\n",
    "    for word in doc:\n",
    "        if word == find_term:\n",
    "            coincidences = coincidences + 1\n",
    "    return coincidences"
   ]
  },
  {
   "cell_type": "code",
   "execution_count": 13,
   "metadata": {},
   "outputs": [],
   "source": [
    "def cosine_similarity(vectorSpace1, vectorSpace2):\n",
    "    numerator = 0 \n",
    "    sumxx, sumyy = 0, 0\n",
    "    for i in range(len(vectorSpace1)):\n",
    "        x = vectorSpace1[i]\n",
    "        y = vectorSpace2[i]\n",
    "        sumxx += x*x\n",
    "        sumyy += y*y\n",
    "        numerator += x*y\n",
    "    return numerator/math.sqrt(sumxx*sumyy)"
   ]
  },
  {
   "cell_type": "code",
   "execution_count": 14,
   "metadata": {},
   "outputs": [],
   "source": [
    "def createHistogram(query):\n",
    "    listQuery = []\n",
    "    for word in query.lower().split():  # split\n",
    "        if word not in stopwords:\n",
    "            listQuery.append(word)\n",
    "    return Counter(listQuery)\n"
   ]
  },
  {
   "cell_type": "code",
   "execution_count": 15,
   "metadata": {},
   "outputs": [],
   "source": [
    "def createVectorSpace(histogram):\n",
    "    vectorSpace = []\n",
    "    for word in words:\n",
    "        vectorSpace.append(findCoincidences(histogram, word))\n",
    "    return vectorSpace"
   ]
  },
  {
   "cell_type": "code",
   "execution_count": 16,
   "metadata": {},
   "outputs": [],
   "source": [
    "def createTdiDf(vectorSpace):\n",
    "    tfidf = []\n",
    "    for id, ter_frec in enumerate(vectorSpace):\n",
    "        eq = 0\n",
    "        if ter_frec > 0:\n",
    "            eq = ter_frec*inv_frec_vector[id]\n",
    "        tfidf.append(eq)\n",
    "    return tfidf"
   ]
  },
  {
   "cell_type": "code",
   "execution_count": 17,
   "metadata": {},
   "outputs": [],
   "source": [
    "def search(tfidf):\n",
    "    cosSim = {}\n",
    "    for palabra in histQuery:\n",
    "        if palabra in inverdIndex:  # si la palabra esta en el index invertido\n",
    "            for key in inverdIndex.get(palabra):\n",
    "                if key not in cosSim:\n",
    "                    calc = cosine_similarity(tfidf, allTfidf[key])\n",
    "                    cosSim[key] = calc                    \n",
    "    return cosSim"
   ]
  },
  {
   "cell_type": "markdown",
   "metadata": {},
   "source": [
    "### Algoritmo de Búsqueda"
   ]
  },
  {
   "cell_type": "code",
   "execution_count": 18,
   "metadata": {},
   "outputs": [
    {
     "name": "stdout",
     "output_type": "stream",
     "text": [
      "Ingrese texto a buscar: guerra\n",
      "\n",
      "Tiempo total de la busqueda 0.179s.\n",
      "Total de Peliculas encontradas: 64\n",
      "La consulta es: guerra\n",
      "\n",
      "Pelicula encontrada: #0, cs: 0.168785\n",
      "Pelicula #256:\n",
      "TITULO: en honor a la verdad \n",
      "SINOPSIS: guerra de irak. después de destruir accidentalmente uno de sus propios tanques, el teniente coronel nathan serling (denzel washington) vuelve a casa. el ejército oculta el incidente y asigna a serling la misión de investigar al capitán karen walden (meg ryan), una piloto de helicóptero que, a título póstumo, está a punto de convertirse en la primera mujer héroe de guerra que recibe la medalla al honor por una acción en combate. ésta fue la primera película que se hizo en hollywood sobre la i guerra del golfo. \n",
      "\n",
      "Pelicula encontrada: #1, cs: 0.167080\n",
      "Pelicula #251:\n",
      "TITULO: gracias por su servicio \n",
      "SINOPSIS: este drama cuenta la historia de unos veteranos de guerra que, al retornar del campo de batalla, procurarán integrarse nuevamente en la sociedad. mas amoldarse a la vida civil no va a ser simple, en tanto que deberán hacer en frente de los horribles recuerdos de los horrores de la guerra, que incluso lejos del frente conminan con destruirlos. 3 soldados estadounidenses retornan de irak tratando de restituirse con sus familias, y adaptándose a la vida civil mientras que luchan por olvidar sus duros recuerdos de la guerra. prosigue a un conjunto de soldados estadounidenses que retornan de iraq que luchan por integrarse de nuevo a la vida en familia y civil, mientras que viven con el recuerdo de una guerra que amenaza con destruirlos mucho una vez que abandonaron el campo de batalla. \n",
      "\n",
      "Pelicula encontrada: #2, cs: 0.136768\n",
      "Pelicula #347:\n",
      "TITULO: cuando éramos soldados \n",
      "SINOPSIS: en plena guerra del vietnam, el coronel hal moore (mel gibson) y sus soldados (unos 400 hombres) aterrizaron en noviembre de 1965 en una región conocida como \"el valle de la muerte\". allí fueron recibidos por más de 2.000 soldados del vietcong, desencadenándose una de las batallas más feroces de la guerra. \n",
      "\n",
      "Pelicula encontrada: #3, cs: 0.130152\n",
      "Pelicula #291:\n",
      "TITULO: whiskey tango foxtrot \n",
      "SINOPSIS: un periodista relata su cobertura de la guerra en afganistán . \n",
      "\n",
      "Pelicula encontrada: #4, cs: 0.121267\n",
      "Pelicula #257:\n",
      "TITULO: la conquista del honor \n",
      "SINOPSIS: segunda guerra mundial (1939-1945). la batalla de iwo jima (1945), el episodio más cruento de la guerra del pacífico, quedó inmortalizada en la foto de unos soldados que izaban una bandera norteamericana. el objetivo de esta batalla era la toma de un islote insignificante, pero de gran valor estratégico, pues desde allí los japoneses defendían su territorio. en la contienda cayeron más de 20.000 japoneses y 7.000 estadounidenses. mientras tanto, en los estados unidos la célebre foto en la que seis soldados izaban la bandera americana fue un instrumento propagandístico para conseguir fondos que permitieran seguir sufragando los gastos de la guerra. el mismo año el propio eastwood dirigió \"cartas desde iwo jima\", que narra la misma batalla desde el punto de vista japonés. \n",
      "\n",
      "Pelicula encontrada: #5, cs: 0.118878\n",
      "Pelicula #282:\n",
      "TITULO: la guerra de hart \n",
      "SINOPSIS: un coronel del ejército de cuarta generación, william mcnamara, se encuentra recluido en un brutal campo de prisioneros de guerra alemán. sin embargo, como oficial estadounidense de alto rango que es, sigue mandando sobre sus compañeros de prisión manteniendo vivo el sentido del honor en un lugar donde el honor es fácil de destruir, todo bajo el ojo de wilhelm visse, un peligroso coronel veterano de la luftwafe. nunca abandonar la lucha para ganar la guerra, mcnamara sigue planeando en silencio, esperando su momento para contraatacar al enemigo. un asesinato en el campo le da la oportunidad de poner en marcha un arriesgado plan para escapar y destruir una fábrica de municiones cercana, reclutando involuntariamente al joven teniente tommy hart. junto con sus hombres, mcnamara muestra la resolución de un héroe para llevar a cabo su misión, y finalmente se ve obligado a sopesar el valor de su vida frente el bien de su país. \n",
      "\n",
      "Pelicula encontrada: #6, cs: 0.117413\n",
      "Pelicula #30:\n",
      "TITULO: el abuelo espía \n",
      "SINOPSIS: un abuelo reúne a su equipo de la segunda guerra mundial para rescatar a la novia de su nieto, que ha sido secuestrada. \n",
      "\n",
      "Pelicula encontrada: #7, cs: 0.117413\n",
      "Pelicula #96:\n",
      "TITULO: el abuelo espía \n",
      "SINOPSIS: un abuelo reúne a su equipo de la segunda guerra mundial para rescatar a la novia de su nieto, que ha sido secuestrada. \n",
      "\n",
      "Pelicula encontrada: #8, cs: 0.116375\n",
      "Pelicula #279:\n",
      "TITULO: lazos de guerra \n",
      "SINOPSIS: jin-tae es un zapatero que lleva años trabajando sin descanso para que su hermano menor, jin-seok, pueda ir a la universidad. pero todos sus sueños y esperanzas se desvanecen cuando los dos son obligados a incorporarse al ejército en contra de su voluntad. separado de su casa y de su familia, jin-tae promete proteger a jin-sok. pero la guerra pondrá a prueba sus lazos de fe, amor y confianza. \n",
      "\n",
      "Pelicula encontrada: #9, cs: 0.107676\n",
      "Pelicula #277:\n",
      "TITULO: el maestro del agua \n",
      "SINOPSIS: primera guerra mundial. un hombre australiano viaja hasta turquía tras la batalla de gallipoli para buscar a sus tres hijos desaparecidos. \n",
      "\n",
      "Pelicula encontrada: #10, cs: 0.105660\n",
      "Pelicula #136:\n",
      "TITULO: el teniente otomano \n",
      "SINOPSIS: dirigida por joseph ruben, el filme cuenta los años de la primera guerra mundial a través del punto de vista de una enfermera estadounidense en las provincias de anatolia del este \n",
      "\n"
     ]
    }
   ],
   "source": [
    "# abrir documentos con los documentos procesados\n",
    "inverdIndex, stopwords, words, allTfidf ,documents, inv_frec_vector = opendDocuments()\n",
    "\n",
    "query = input('Ingrese texto a buscar: ')\n",
    "\n",
    "# obtiene el tiempo actual\n",
    "t0 = time()\n",
    "\n",
    "# crea al vector de histograma de la cosulta\n",
    "histQuery = createHistogram(query)\n",
    "\n",
    "# crea el vector space de la consulta\n",
    "vectorSpace = createVectorSpace(histQuery)\n",
    "\n",
    "# normaliza TF-IDF \n",
    "tfidf = createTdiDf(vectorSpace)\n",
    "\n",
    "# realiza la consulta\n",
    "docs = search(tfidf)\n",
    "\n",
    "# obtiene el tiempo total de la busqueda\n",
    "totalTime = time()-t0\n",
    "\n",
    "# muestra resultados\n",
    "print()\n",
    "print(\"Tiempo total de la busqueda %0.3fs.\" % totalTime)\n",
    "print(\"Total de Peliculas encontradas: %d\" % len(docs))\n",
    "print(\"La consulta es: \" + query)\n",
    "print()\n",
    "\n",
    "i = 0\n",
    "for key in sorted(docs, key=docs.get, reverse=True):\n",
    "    print(\"Pelicula encontrada: #%s, cs: %f\" % (i, docs[key]))\n",
    "    print('Pelicula #%s:' % (key))\n",
    "    str2 = \"sinopsis:\"\n",
    "    print('%s' % ( documents[key][0:documents[key].rfind(str2)].replace(\"titulo\", \"TITULO\")))\n",
    "    print('%s' % ( documents[key][documents[key].rfind(str2):len(documents[key])].replace(\"sinopsis\", \"SINOPSIS\")))\n",
    "    print()\n",
    "    i += 1\n",
    "    \n",
    "    if (i > 10):\n",
    "        break"
   ]
  },
  {
   "cell_type": "code",
   "execution_count": null,
   "metadata": {},
   "outputs": [],
   "source": []
  },
  {
   "cell_type": "code",
   "execution_count": null,
   "metadata": {},
   "outputs": [],
   "source": []
  }
 ],
 "metadata": {
  "kernelspec": {
   "display_name": "Python 3",
   "language": "python",
   "name": "python3"
  },
  "language_info": {
   "codemirror_mode": {
    "name": "ipython",
    "version": 3
   },
   "file_extension": ".py",
   "mimetype": "text/x-python",
   "name": "python",
   "nbconvert_exporter": "python",
   "pygments_lexer": "ipython3",
   "version": "3.6.4"
  }
 },
 "nbformat": 4,
 "nbformat_minor": 2
}
