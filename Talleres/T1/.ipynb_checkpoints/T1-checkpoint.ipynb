{
 "cells": [
  {
   "cell_type": "markdown",
   "metadata": {},
   "source": [
    "## TallerNro1:  Buscador de texto por palabras claves usando VSM y Similitud Coseno\n",
    "### Autores: Yenner Robayo, Wilmar Martín"
   ]
  },
  {
   "cell_type": "code",
   "execution_count": 1,
   "metadata": {
    "collapsed": true
   },
   "outputs": [],
   "source": [
    "# Autores: Yenner Robayo\n",
    "#          Wilmar Martín\n",
    "\n",
    "import math\n",
    "import json\n",
    "from time import time\n",
    "from collections import Counter\n",
    "from nltk.tokenize import word_tokenize "
   ]
  },
  {
   "cell_type": "code",
   "execution_count": 2,
   "metadata": {
    "collapsed": true
   },
   "outputs": [],
   "source": [
    "def opendDocuments():    \n",
    "    file_inverdIndex = open(\"inverdIndex.txt\", \"r\")\n",
    "    inverdIndex = json.JSONDecoder().decode(file_inverdIndex.read())\n",
    "    file_inverdIndex.close()\n",
    "    \n",
    "    file_stopwords = open(\"stopwords.txt\", \"r\", errors=\"replace\")\n",
    "    stopwords = file_stopwords.read().split()\n",
    "    file_stopwords.close()\n",
    "    \n",
    "    file_words = open(\"words.txt\", \"r\")\n",
    "    words = json.JSONDecoder().decode(file_words.read())\n",
    "    file_words.close()\n",
    "    \n",
    "    file_words = open(\"tfidf.txt\", \"r\")\n",
    "    allTfidf = json.JSONDecoder().decode(file_words.read())\n",
    "    file_words.close()\n",
    "\n",
    "    file_documents = open(\"documents.txt\", \"r\")\n",
    "    documents = json.JSONDecoder().decode(file_documents.read())\n",
    "    file_documents.close()\n",
    "    \n",
    "    return inverdIndex, stopwords, words, allTfidf ,documents"
   ]
  },
  {
   "cell_type": "code",
   "execution_count": 3,
   "metadata": {
    "collapsed": true
   },
   "outputs": [],
   "source": [
    "def findCoincidences(doc, find_term):\n",
    "    coincidences = 0\n",
    "    for word in doc:\n",
    "        if word == find_term:\n",
    "            coincidences = coincidences + 1\n",
    "    return coincidences"
   ]
  },
  {
   "cell_type": "code",
   "execution_count": 4,
   "metadata": {
    "collapsed": true
   },
   "outputs": [],
   "source": [
    "def cosine_similarity(vectorSpace1, vectorSpace2):\n",
    "    numerator = 0 \n",
    "    sumxx, sumyy = 0, 0\n",
    "    for i in range(len(vectorSpace1)):\n",
    "        x = vectorSpace1[i]\n",
    "        y = vectorSpace2[i]\n",
    "        sumxx += x*x\n",
    "        sumyy += y*y\n",
    "        numerator += x*y\n",
    "    return numerator/math.sqrt(sumxx*sumyy)"
   ]
  },
  {
   "cell_type": "code",
   "execution_count": 5,
   "metadata": {
    "collapsed": true
   },
   "outputs": [],
   "source": [
    "def createHistogram(query):\n",
    "    listQuery = []\n",
    "    for word in query.lower().split():  # split\n",
    "        if word not in stopwords:\n",
    "            listQuery.append(word)\n",
    "    return Counter(listQuery)\n"
   ]
  },
  {
   "cell_type": "code",
   "execution_count": 6,
   "metadata": {
    "collapsed": true
   },
   "outputs": [],
   "source": [
    "def createVectorSpace(histogram):\n",
    "    vectorSpace = []\n",
    "    for word in words:\n",
    "        vectorSpace.append(findCoincidences(histogram, word))\n",
    "    return vectorSpace"
   ]
  },
  {
   "cell_type": "code",
   "execution_count": 7,
   "metadata": {
    "collapsed": true
   },
   "outputs": [],
   "source": [
    "def createTdiDf(vectorSpace):\n",
    "    tfidf = []\n",
    "    doc_lenght = len(vectorSpace)\n",
    "    for ter in vectorSpace:\n",
    "        eq = 0\n",
    "        if ter > 0:\n",
    "            eq = ter*math.log(doc_lenght)\n",
    "        tfidf.append(eq)\n",
    "    return tfidf"
   ]
  },
  {
   "cell_type": "code",
   "execution_count": 8,
   "metadata": {
    "collapsed": true
   },
   "outputs": [],
   "source": [
    "def search(tfidf):\n",
    "    cosSim = {}\n",
    "    for palabra in histQuery:\n",
    "        if palabra in inverdIndex:  # si la palabra esta en el index invertido\n",
    "            for key in inverdIndex.get(palabra):\n",
    "                if key not in cosSim:\n",
    "                    calc = cosine_similarity(tfidf, allTfidf[key])\n",
    "                    cosSim[key] = calc                    \n",
    "    return cosSim"
   ]
  },
  {
   "cell_type": "code",
   "execution_count": 27,
   "metadata": {},
   "outputs": [
    {
     "name": "stdout",
     "output_type": "stream",
     "text": [
      "Ingrese texto a buscar: company\n",
      "Tiempo total de la busqueda 0.832s.\n",
      "La consulta es: company\n",
      "\n",
      "Documento encontrado: #0\n",
      "electronic mail <emca> financing attempt fails electronic mail corp of america said its efforts to secure additional financing for expansion have fallen through. the company said that there are no immediate prospects for financing through other sources, though efforts will continue. the company said operations wil continue while further efforts are made. negotiations with an undisclosed company had been onging for four months, the company said. reuter ...\n",
      "\n",
      "Documento encontrado: #1\n",
      "integrated generics <ign> will not comment integrated generics inc said it is in the midst of several developments which could be favorable for the company but can make no further comments at the present time. the company said it released this brief statement in response to the american stock exchange's inquiry on the activity of the company's common stock, which was up 5/8 to five in midafternoon trading. reuter ...\n",
      "\n",
      "Documento encontrado: #2\n",
      "ilc technology <ilct> officer removed ilc technology inc said raymond montoya, vice president of finance, has been removed as an officer and terminated as an employee of the company, and ilc has filed a civil action against him to recover alleged improprer disbursements of company funds. the company said montoya has been arrested by police in hawthorne, calif., and charged with grand theft and embezzlement. it said the extent of the disbursements has not yet been determined. in independent auditor is helping assess the alleged irregularities, the company said. reuter ...\n",
      "\n",
      "Documento encontrado: #3\n",
      "videotron buys into exhibit company (groupe videotron ltd) said it agreed to buy 50 pct of (groupe promexpo inc), a company which specializes in product exhibits, for three mln dlrs. reuter ...\n",
      "\n",
      "Documento encontrado: #4\n",
      "turner corp <tur> unit builds hospital addition the turner corp's construction company new york said its orange county office has begun building a 23 mln dlr addition to kaiser permanente medical center. the five-story, 197,000 square foot adition will be used primarily as an outpatient treatment clinic, it said. developer for the project is kaiser foundation hospitals in pasadena, calif., the company said. the completion date is october 1988, according to the company. reuter ...\n",
      "\n",
      "Documento encontrado: #5\n",
      "ccx network <ccxn> secondary offering underway ccx network inc said it was offering 220,838 shares of stock at 15.75 dlrs a share though underwriters stephens inc and cazenove inc. the company said it was selling the stock on behalf of some shareholders, including those who recently received shares in the company in exchange for their businesses. the company said it was receiving no proceeds from the offering. reuter ...\n",
      "\n",
      "Documento encontrado: #6\n",
      "western union <wu> names new president western union said john pope jr has been elected president of the telegraph company and executive vice president of the corporation. western union said pope, formerly the executive vice president of the company, succeeds robert leventhal. the company said leventhal will remain chairman and chief executive officer of the corporation and company, the prinipal subsidiary of western union corp. reuter ...\n",
      "\n",
      "Documento encontrado: #7\n",
      "united merchants <umm> to buy its own stock united merchants and manufactuerers inc said its board has authorized the repurchase of up to one mln shares of the company's common stock. the company now has about 9.1 mln shares outstanding. it said the stock will be acquired from time to time on the open market, depending on market conditions and other factors. the number of shares purchased and the timing of the purchases are also subject to restrictions under certain of the company's debt instruments, it added. reuter ...\n",
      "\n",
      "Documento encontrado: #8\n",
      "cousins home furnishings <cuzz> get credit line cousins home furnishings inc said it obtained a 5.0-mln-dlr working capital line of credit from lloyds bank plc, through its los angeles branch. the credit is supported by a guarantee from the company's canadian affiliate, the brick warehouse ltd, which will receive 200,000-dlrs worth of the company's stock. the line of credit, which expires in july, 1989, will be used to pay off a 1,750,000-dlr working capital loan the company owes wells farg bank. reuter ...\n",
      "\n",
      "Documento encontrado: #9\n",
      "irish oil concern has 8.5 pct of cynergy <crg> bryson oil and gas plc, a belfast, northern ireland, oil company, said it has acquired an 8.5 pct stake in cynergy corp and took steps to help it consider the possibility of seeking control or influencing the company. in a filing with the securities and exchange commission in which it disclosed its stake, bryson said it also asked cynergy for a list shareholder list in case it decided to communicate with the holders. shareholder information would be vital to anyone planning a tender offer and is commonly requested by individuals or groups mulling takeover attempts. bryson told the sec it may review the feasibility of trying to influence the management policies of cynergy, or of trying to gain control of the company through representation on its board of directors. a shareholder list would also be necessary for a group trying to mount a campaign for the election of directors. bryson, which said it has retained d.f. king and co inc to work on its cynergy dealings, said it bought 841,887 cynergy common shares for 5.4 mln dlrs to gain an \"equity position\" in the company. last week, texas developer james sowell told the sec he sold his entire 823,387-share stake in the company. reuter ...\n",
      "\n",
      "Documento encontrado: #10\n",
      "lodgistix <ldgx> to buyback 100,000 shares lodgistix inc said its board authorized a program for the company to purchase up to 100,000 of its shares from time to time. the company said the shares will be used for general purposes, including incentive programs. reuter ...\n",
      "\n"
     ]
    }
   ],
   "source": [
    "query = input('Ingrese texto a buscar: ')\n",
    "\n",
    "# abrir documentos con los documentos procesados\n",
    "inverdIndex, stopwords, words, allTfidf ,documents = opendDocuments()\n",
    "\n",
    "# obtiene el tiempo actual\n",
    "t0 = time()\n",
    "\n",
    "# crea al vector de histograma de la cosulta\n",
    "histQuery = createHistogram(query)\n",
    "\n",
    "# crea el vector space de la consulta\n",
    "vectorSpace = createVectorSpace(histQuery)\n",
    "\n",
    "# normaliza TF-IDF \n",
    "tfidf = createTdiDf(vectorSpace)\n",
    "\n",
    "# realiza la consulta\n",
    "docs = search(tfidf)\n",
    "\n",
    "# obtiene el tiempo total de la busqueda\n",
    "totalTime = time()-t0\n",
    "\n",
    "print(\"Tiempo total de la busqueda %0.3fs.\" % totalTime)\n",
    "\n",
    "print(\"La consulta es: \" + query)\n",
    "print()\n",
    "\n",
    "i = 0\n",
    "for key in sorted(docs, key=docs.get, reverse=True):\n",
    "    print(\"Documento encontrado: #%s\" % i)\n",
    "    print('%s' % documents[key] + \"...\")\n",
    "    print()\n",
    "    i += 1\n",
    "    \n",
    "    if (i > 10):\n",
    "        break\n",
    "        "
   ]
  },
  {
   "cell_type": "code",
   "execution_count": null,
   "metadata": {
    "collapsed": true
   },
   "outputs": [],
   "source": []
  },
  {
   "cell_type": "code",
   "execution_count": null,
   "metadata": {
    "collapsed": true
   },
   "outputs": [],
   "source": []
  },
  {
   "cell_type": "code",
   "execution_count": null,
   "metadata": {
    "collapsed": true
   },
   "outputs": [],
   "source": []
  },
  {
   "cell_type": "code",
   "execution_count": null,
   "metadata": {
    "collapsed": true
   },
   "outputs": [],
   "source": []
  },
  {
   "cell_type": "code",
   "execution_count": null,
   "metadata": {
    "collapsed": true
   },
   "outputs": [],
   "source": []
  }
 ],
 "metadata": {
  "kernelspec": {
   "display_name": "Python 3",
   "language": "python",
   "name": "python3"
  },
  "language_info": {
   "codemirror_mode": {
    "name": "ipython",
    "version": 3
   },
   "file_extension": ".py",
   "mimetype": "text/x-python",
   "name": "python",
   "nbconvert_exporter": "python",
   "pygments_lexer": "ipython3",
   "version": "3.6.3"
  }
 },
 "nbformat": 4,
 "nbformat_minor": 2
}
